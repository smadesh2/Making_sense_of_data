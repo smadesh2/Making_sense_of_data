{
 "cells": [
  {
   "cell_type": "code",
   "execution_count": 1,
   "id": "4168a7e5",
   "metadata": {},
   "outputs": [
    {
     "name": "stdout",
     "output_type": "stream",
     "text": [
      "Requirement already satisfied: google-cloud-vision in c:\\users\\smades2\\anaconda3\\lib\\site-packages (3.1.4)\n",
      "Requirement already satisfied: proto-plus<2.0.0dev,>=1.22.0 in c:\\users\\smades2\\anaconda3\\lib\\site-packages (from google-cloud-vision) (1.22.1)\n",
      "Requirement already satisfied: google-api-core[grpc]!=2.0.*,!=2.1.*,!=2.2.*,!=2.3.*,!=2.4.*,!=2.5.*,!=2.6.*,!=2.7.*,<3.0.0dev,>=1.32.0 in c:\\users\\smades2\\anaconda3\\lib\\site-packages (from google-cloud-vision) (2.10.2)\n",
      "Requirement already satisfied: protobuf!=3.20.0,!=3.20.1,!=4.21.0,!=4.21.1,!=4.21.2,!=4.21.3,!=4.21.4,!=4.21.5,<5.0.0dev,>=3.19.5 in c:\\users\\smades2\\anaconda3\\lib\\site-packages (from google-cloud-vision) (4.21.9)\n",
      "Requirement already satisfied: googleapis-common-protos<2.0dev,>=1.56.2 in c:\\users\\smades2\\anaconda3\\lib\\site-packages (from google-api-core[grpc]!=2.0.*,!=2.1.*,!=2.2.*,!=2.3.*,!=2.4.*,!=2.5.*,!=2.6.*,!=2.7.*,<3.0.0dev,>=1.32.0->google-cloud-vision) (1.56.4)\n",
      "Requirement already satisfied: google-auth<3.0dev,>=1.25.0 in c:\\users\\smades2\\anaconda3\\lib\\site-packages (from google-api-core[grpc]!=2.0.*,!=2.1.*,!=2.2.*,!=2.3.*,!=2.4.*,!=2.5.*,!=2.6.*,!=2.7.*,<3.0.0dev,>=1.32.0->google-cloud-vision) (2.13.0)\n",
      "Requirement already satisfied: requests<3.0.0dev,>=2.18.0 in c:\\users\\smades2\\anaconda3\\lib\\site-packages (from google-api-core[grpc]!=2.0.*,!=2.1.*,!=2.2.*,!=2.3.*,!=2.4.*,!=2.5.*,!=2.6.*,!=2.7.*,<3.0.0dev,>=1.32.0->google-cloud-vision) (2.28.1)\n",
      "Requirement already satisfied: grpcio<2.0dev,>=1.33.2 in c:\\users\\smades2\\anaconda3\\lib\\site-packages (from google-api-core[grpc]!=2.0.*,!=2.1.*,!=2.2.*,!=2.3.*,!=2.4.*,!=2.5.*,!=2.6.*,!=2.7.*,<3.0.0dev,>=1.32.0->google-cloud-vision) (1.50.0)\n",
      "Requirement already satisfied: grpcio-status<2.0dev,>=1.33.2 in c:\\users\\smades2\\anaconda3\\lib\\site-packages (from google-api-core[grpc]!=2.0.*,!=2.1.*,!=2.2.*,!=2.3.*,!=2.4.*,!=2.5.*,!=2.6.*,!=2.7.*,<3.0.0dev,>=1.32.0->google-cloud-vision) (1.50.0)\n",
      "Requirement already satisfied: cachetools<6.0,>=2.0.0 in c:\\users\\smades2\\anaconda3\\lib\\site-packages (from google-auth<3.0dev,>=1.25.0->google-api-core[grpc]!=2.0.*,!=2.1.*,!=2.2.*,!=2.3.*,!=2.4.*,!=2.5.*,!=2.6.*,!=2.7.*,<3.0.0dev,>=1.32.0->google-cloud-vision) (5.2.0)\n",
      "Requirement already satisfied: pyasn1-modules>=0.2.1 in c:\\users\\smades2\\anaconda3\\lib\\site-packages (from google-auth<3.0dev,>=1.25.0->google-api-core[grpc]!=2.0.*,!=2.1.*,!=2.2.*,!=2.3.*,!=2.4.*,!=2.5.*,!=2.6.*,!=2.7.*,<3.0.0dev,>=1.32.0->google-cloud-vision) (0.2.8)\n",
      "Requirement already satisfied: rsa<5,>=3.1.4 in c:\\users\\smades2\\anaconda3\\lib\\site-packages (from google-auth<3.0dev,>=1.25.0->google-api-core[grpc]!=2.0.*,!=2.1.*,!=2.2.*,!=2.3.*,!=2.4.*,!=2.5.*,!=2.6.*,!=2.7.*,<3.0.0dev,>=1.32.0->google-cloud-vision) (4.9)\n",
      "Requirement already satisfied: six>=1.9.0 in c:\\users\\smades2\\anaconda3\\lib\\site-packages (from google-auth<3.0dev,>=1.25.0->google-api-core[grpc]!=2.0.*,!=2.1.*,!=2.2.*,!=2.3.*,!=2.4.*,!=2.5.*,!=2.6.*,!=2.7.*,<3.0.0dev,>=1.32.0->google-cloud-vision) (1.16.0)\n",
      "Requirement already satisfied: pyasn1<0.5.0,>=0.4.6 in c:\\users\\smades2\\anaconda3\\lib\\site-packages (from pyasn1-modules>=0.2.1->google-auth<3.0dev,>=1.25.0->google-api-core[grpc]!=2.0.*,!=2.1.*,!=2.2.*,!=2.3.*,!=2.4.*,!=2.5.*,!=2.6.*,!=2.7.*,<3.0.0dev,>=1.32.0->google-cloud-vision) (0.4.8)\n",
      "Requirement already satisfied: charset-normalizer<3,>=2 in c:\\users\\smades2\\anaconda3\\lib\\site-packages (from requests<3.0.0dev,>=2.18.0->google-api-core[grpc]!=2.0.*,!=2.1.*,!=2.2.*,!=2.3.*,!=2.4.*,!=2.5.*,!=2.6.*,!=2.7.*,<3.0.0dev,>=1.32.0->google-cloud-vision) (2.0.4)\n",
      "Requirement already satisfied: idna<4,>=2.5 in c:\\users\\smades2\\anaconda3\\lib\\site-packages (from requests<3.0.0dev,>=2.18.0->google-api-core[grpc]!=2.0.*,!=2.1.*,!=2.2.*,!=2.3.*,!=2.4.*,!=2.5.*,!=2.6.*,!=2.7.*,<3.0.0dev,>=1.32.0->google-cloud-vision) (3.2)\n",
      "Requirement already satisfied: urllib3<1.27,>=1.21.1 in c:\\users\\smades2\\anaconda3\\lib\\site-packages (from requests<3.0.0dev,>=2.18.0->google-api-core[grpc]!=2.0.*,!=2.1.*,!=2.2.*,!=2.3.*,!=2.4.*,!=2.5.*,!=2.6.*,!=2.7.*,<3.0.0dev,>=1.32.0->google-cloud-vision) (1.26.7)\n",
      "Requirement already satisfied: certifi>=2017.4.17 in c:\\users\\smades2\\anaconda3\\lib\\site-packages (from requests<3.0.0dev,>=2.18.0->google-api-core[grpc]!=2.0.*,!=2.1.*,!=2.2.*,!=2.3.*,!=2.4.*,!=2.5.*,!=2.6.*,!=2.7.*,<3.0.0dev,>=1.32.0->google-cloud-vision) (2021.10.8)\n",
      "Note: you may need to restart the kernel to use updated packages.\n"
     ]
    }
   ],
   "source": [
    "pip install google-cloud-vision\n"
   ]
  },
  {
   "cell_type": "code",
   "execution_count": 9,
   "id": "4d4cb7f6",
   "metadata": {},
   "outputs": [],
   "source": [
    "import os, io\n",
    "\n",
    "from google.cloud import vision\n",
    "from google.cloud import vision_v1\n",
    "from google.cloud.vision_v1 import types"
   ]
  },
  {
   "cell_type": "code",
   "execution_count": 10,
   "id": "24ada6dc",
   "metadata": {},
   "outputs": [],
   "source": [
    "#the JSON file you downloaded in step 5 above\n",
    "os.environ['GOOGLE_APPLICATION_CREDENTIALS'] = 'image-analysis-366800-b03a47707e98.json'"
   ]
  },
  {
   "cell_type": "code",
   "execution_count": 11,
   "id": "7e5af4fa",
   "metadata": {},
   "outputs": [],
   "source": [
    "# Instantiates a client\n",
    "client = vision.ImageAnnotatorClient()"
   ]
  },
  {
   "cell_type": "code",
   "execution_count": 21,
   "id": "eb641e54",
   "metadata": {},
   "outputs": [],
   "source": [
    "#set this thumbnail as the url\n",
    "image = types.Image()\n",
    "image.source.image_uri = 'https://thumbs.dreamstime.com/b/handsome-business-man-street-drinking-coffee-dog-young-148935429.jpg'"
   ]
  },
  {
   "cell_type": "code",
   "execution_count": 13,
   "id": "22b7bfd3",
   "metadata": {},
   "outputs": [],
   "source": [
    "# ### Trying all images from the file\n",
    "# #path = 'C:/Sanjay/UIC/Subjects/Fall 2022/IDS 560 - Capstone (Analytics Stratergy and Practice)/Capstone Project/References/images'\n",
    "# path='images'\n",
    "# image_file=open(path, 'rb')\n",
    "# #content = image_file.read()\n",
    "\n",
    "# #open('images/photo_1.jpg') \n",
    "# #as image_file:\n",
    "#  #   content = image_file.read()"
   ]
  },
  {
   "cell_type": "code",
   "execution_count": 22,
   "id": "3912878a",
   "metadata": {},
   "outputs": [
    {
     "name": "stdout",
     "output_type": "stream",
     "text": [
      "{'label': 'Bicycle', 'score': 0.9599310755729675}\n",
      "{'label': 'Hairstyle', 'score': 0.9509009122848511}\n",
      "{'label': 'Smile', 'score': 0.9280391335487366}\n",
      "{'label': 'Human', 'score': 0.899543821811676}\n",
      "{'label': 'Beard', 'score': 0.8882049918174744}\n",
      "{'label': 'Fashion', 'score': 0.8825340270996094}\n",
      "{'label': 'Standing', 'score': 0.8642165660858154}\n",
      "{'label': 'Wheel', 'score': 0.8375955820083618}\n",
      "{'label': 'Carnivore', 'score': 0.8351334929466248}\n",
      "{'label': 'Bicycle handlebar', 'score': 0.8140224814414978}\n"
     ]
    }
   ],
   "source": [
    "#### LABEL DETECTION ######\n",
    "\n",
    "response_label = client.label_detection(image=image)\n",
    "\n",
    "for label in response_label.label_annotations:\n",
    "    print({'label': label.description, 'score': label.score})"
   ]
  },
  {
   "cell_type": "code",
   "execution_count": 23,
   "id": "74d7769f",
   "metadata": {},
   "outputs": [],
   "source": [
    "#### LOGO DETECTION ######\n",
    "\n",
    "response_logo = client.logo_detection(image=image)\n",
    "\n",
    "for logo in response_logo.logo_annotations:\n",
    "    print({'logo': logo.description, 'score': logo.score})"
   ]
  },
  {
   "cell_type": "code",
   "execution_count": 24,
   "id": "a3ba7d3a",
   "metadata": {},
   "outputs": [
    {
     "name": "stdout",
     "output_type": "stream",
     "text": [
      "Number of objects found: 5\n",
      "\n",
      "Person (confidence: 0.8699154257774353)\n",
      "\n",
      "Top (confidence: 0.8523741364479065)\n",
      "\n",
      "Animal (confidence: 0.709620475769043)\n",
      "\n",
      "Dog (confidence: 0.6598547697067261)\n",
      "\n",
      "Pants (confidence: 0.5361254215240479)\n"
     ]
    }
   ],
   "source": [
    "#### OBJECT DETECTION (LOCALIZATION) #####\n",
    "\n",
    "\n",
    "response_object = client.object_localization(image=image).localized_object_annotations\n",
    "\n",
    "print('Number of objects found: {}'.format(len(response_object)))\n",
    "\n",
    "for object_ in response_object:\n",
    "    print('\\n{} (confidence: {})'.format(object_.name, object_.score))"
   ]
  },
  {
   "cell_type": "code",
   "execution_count": 25,
   "id": "54d0eb09",
   "metadata": {},
   "outputs": [
    {
     "name": "stdout",
     "output_type": "stream",
     "text": [
      "{'confidence': 0.8908928036689758, 'joy': <Likelihood.VERY_LIKELY: 5>, 'sorrow': <Likelihood.VERY_UNLIKELY: 1>, 'surprise': <Likelihood.VERY_UNLIKELY: 1>, 'anger': <Likelihood.VERY_UNLIKELY: 1>}\n"
     ]
    }
   ],
   "source": [
    "#### FACE DETECTION ######\n",
    "\n",
    "response_face = client.face_detection(image=image)\n",
    "\n",
    "face_data = []\n",
    "\n",
    "for face_detection in response_face.face_annotations:\n",
    "    d = {\n",
    "        'confidence': face_detection.detection_confidence,\n",
    "        'joy': face_detection.joy_likelihood,\n",
    "        'sorrow': face_detection.sorrow_likelihood,\n",
    "        'surprise': face_detection.surprise_likelihood,\n",
    "        'anger': face_detection.anger_likelihood\n",
    "    }\n",
    "    print(d)"
   ]
  },
  {
   "cell_type": "code",
   "execution_count": 26,
   "id": "26fb425c",
   "metadata": {},
   "outputs": [
    {
     "name": "stdout",
     "output_type": "stream",
     "text": [
      "{'color': red: 46\n",
      "green: 54\n",
      "blue: 55\n",
      ", 'score': 0.1496954709291458, 'pixel_fraction': 0.1595877856016159}\n",
      "{'color': red: 192\n",
      "green: 195\n",
      "blue: 195\n",
      ", 'score': 0.11609279364347458, 'pixel_fraction': 0.16157527267932892}\n",
      "{'color': red: 226\n",
      "green: 186\n",
      "blue: 169\n",
      ", 'score': 0.007473914884030819, 'pixel_fraction': 0.013765182346105576}\n"
     ]
    }
   ],
   "source": [
    "#### IMAGE PROPERTIES ######\n",
    "\n",
    "response_image = client.image_properties(image=image)\n",
    "\n",
    "image_data = []\n",
    "\n",
    "for c in response_image.image_properties_annotation.dominant_colors.colors[:3]:\n",
    "    d = {\n",
    "        'color': c.color,\n",
    "        'score': c.score,\n",
    "        'pixel_fraction': c.pixel_fraction\n",
    "    }\n",
    "    print(d)"
   ]
  },
  {
   "cell_type": "code",
   "execution_count": 27,
   "id": "c078eb51",
   "metadata": {},
   "outputs": [
    {
     "name": "stdout",
     "output_type": "stream",
     "text": [
      "\n",
      "Best guess label: Stock photography\n"
     ]
    }
   ],
   "source": [
    "#### BEST LABEL DETECTION ######\n",
    "\n",
    "response_best_label = client.web_detection(image=image)\n",
    "annotations = response_best_label.web_detection\n",
    "\n",
    "if annotations.best_guess_labels:\n",
    "    for label in annotations.best_guess_labels:\n",
    "        print('\\nBest guess label: {}'.format(label.label))\n"
   ]
  },
  {
   "cell_type": "code",
   "execution_count": 28,
   "id": "d58cf4a3",
   "metadata": {},
   "outputs": [
    {
     "name": "stdout",
     "output_type": "stream",
     "text": [
      "{'text': 'me'}\n",
      "{'text': 'me'}\n"
     ]
    }
   ],
   "source": [
    "#### TEXT DETECTION ######\n",
    "\n",
    "response_text = client.text_detection(image=image)\n",
    "\n",
    "for r in response_text.text_annotations:\n",
    "    d = {\n",
    "        'text': r.description\n",
    "    }\n",
    "    print(d)"
   ]
  },
  {
   "cell_type": "code",
   "execution_count": null,
   "id": "dc3f45f8",
   "metadata": {},
   "outputs": [],
   "source": []
  }
 ],
 "metadata": {
  "kernelspec": {
   "display_name": "Python 3 (ipykernel)",
   "language": "python",
   "name": "python3"
  },
  "language_info": {
   "codemirror_mode": {
    "name": "ipython",
    "version": 3
   },
   "file_extension": ".py",
   "mimetype": "text/x-python",
   "name": "python",
   "nbconvert_exporter": "python",
   "pygments_lexer": "ipython3",
   "version": "3.9.7"
  }
 },
 "nbformat": 4,
 "nbformat_minor": 5
}
