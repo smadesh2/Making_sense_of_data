{
  "cells": [
    {
      "cell_type": "code",
      "execution_count": null,
      "id": "9f6c19d7-e6b4-4897-a1c9-a47bc5ced088",
      "metadata": {
        "id": "9f6c19d7-e6b4-4897-a1c9-a47bc5ced088",
        "outputId": "b7f294b7-0083-4078-e007-0fdc4bd34f23"
      },
      "outputs": [
        {
          "name": "stdout",
          "output_type": "stream",
          "text": [
            "Requirement already satisfied: selenium in ./opt/anaconda3/lib/python3.9/site-packages (4.5.0)\n",
            "Requirement already satisfied: trio~=0.17 in ./opt/anaconda3/lib/python3.9/site-packages (from selenium) (0.22.0)\n",
            "Requirement already satisfied: trio-websocket~=0.9 in ./opt/anaconda3/lib/python3.9/site-packages (from selenium) (0.9.2)\n",
            "Requirement already satisfied: certifi>=2021.10.8 in ./opt/anaconda3/lib/python3.9/site-packages (from selenium) (2021.10.8)\n",
            "Requirement already satisfied: urllib3[socks]~=1.26 in ./opt/anaconda3/lib/python3.9/site-packages (from selenium) (1.26.9)\n",
            "Requirement already satisfied: outcome in ./opt/anaconda3/lib/python3.9/site-packages (from trio~=0.17->selenium) (1.2.0)\n",
            "Requirement already satisfied: exceptiongroup>=1.0.0rc9 in ./opt/anaconda3/lib/python3.9/site-packages (from trio~=0.17->selenium) (1.0.0rc9)\n",
            "Requirement already satisfied: async-generator>=1.9 in ./opt/anaconda3/lib/python3.9/site-packages (from trio~=0.17->selenium) (1.10)\n",
            "Requirement already satisfied: sniffio in ./opt/anaconda3/lib/python3.9/site-packages (from trio~=0.17->selenium) (1.2.0)\n",
            "Requirement already satisfied: attrs>=19.2.0 in ./opt/anaconda3/lib/python3.9/site-packages (from trio~=0.17->selenium) (21.4.0)\n",
            "Requirement already satisfied: idna in ./opt/anaconda3/lib/python3.9/site-packages (from trio~=0.17->selenium) (3.3)\n",
            "Requirement already satisfied: sortedcontainers in ./opt/anaconda3/lib/python3.9/site-packages (from trio~=0.17->selenium) (2.4.0)\n",
            "Requirement already satisfied: wsproto>=0.14 in ./opt/anaconda3/lib/python3.9/site-packages (from trio-websocket~=0.9->selenium) (1.2.0)\n",
            "Requirement already satisfied: PySocks!=1.5.7,<2.0,>=1.5.6 in ./opt/anaconda3/lib/python3.9/site-packages (from urllib3[socks]~=1.26->selenium) (1.7.1)\n",
            "Requirement already satisfied: h11<1,>=0.9.0 in ./opt/anaconda3/lib/python3.9/site-packages (from wsproto>=0.14->trio-websocket~=0.9->selenium) (0.14.0)\n",
            "Note: you may need to restart the kernel to use updated packages.\n"
          ]
        }
      ],
      "source": [
        "pip install -U selenium"
      ]
    },
    {
      "cell_type": "code",
      "execution_count": null,
      "id": "d928b011-7e97-4cdf-8b4d-624b39ff5c3d",
      "metadata": {
        "id": "d928b011-7e97-4cdf-8b4d-624b39ff5c3d"
      },
      "outputs": [],
      "source": [
        "from selenium import webdriver"
      ]
    },
    {
      "cell_type": "code",
      "execution_count": null,
      "id": "ed68f164-a02e-4da3-b451-47e064c41179",
      "metadata": {
        "id": "ed68f164-a02e-4da3-b451-47e064c41179"
      },
      "outputs": [],
      "source": [
        "from selenium.webdriver.common.keys import Keys"
      ]
    },
    {
      "cell_type": "code",
      "execution_count": null,
      "id": "d93b728a-031b-4d4c-8246-10d40231803d",
      "metadata": {
        "id": "d93b728a-031b-4d4c-8246-10d40231803d"
      },
      "outputs": [],
      "source": [
        "from selenium.webdriver.support import expected_conditions as EC\n",
        "from selenium.webdriver.common.by import By\n",
        "from selenium.webdriver.support.wait import WebDriverWait"
      ]
    },
    {
      "cell_type": "code",
      "execution_count": null,
      "id": "2df05200-450b-44a3-af3b-5be4998ff740",
      "metadata": {
        "id": "2df05200-450b-44a3-af3b-5be4998ff740",
        "outputId": "3fe59af3-3911-4683-ab4f-516abeec0544"
      },
      "outputs": [
        {
          "name": "stdout",
          "output_type": "stream",
          "text": [
            "Requirement already satisfied: wget in ./opt/anaconda3/lib/python3.9/site-packages (3.2)\n",
            "Note: you may need to restart the kernel to use updated packages.\n"
          ]
        }
      ],
      "source": [
        "pip install wget"
      ]
    },
    {
      "cell_type": "code",
      "execution_count": null,
      "id": "dd8d6b06-b6fe-4348-aa60-236b77df08b3",
      "metadata": {
        "id": "dd8d6b06-b6fe-4348-aa60-236b77df08b3"
      },
      "outputs": [],
      "source": [
        "import os\n",
        "import wget\n",
        "import time"
      ]
    },
    {
      "cell_type": "code",
      "execution_count": null,
      "id": "b5ddd735-10e0-4e62-9e23-0b499ea557ba",
      "metadata": {
        "id": "b5ddd735-10e0-4e62-9e23-0b499ea557ba"
      },
      "outputs": [],
      "source": [
        "# Source: Python Simplified's \"Web Scraping Instagram with Selenium"
      ]
    },
    {
      "cell_type": "code",
      "execution_count": null,
      "id": "9caec508-687b-4b30-9a70-7a383ccfc45c",
      "metadata": {
        "id": "9caec508-687b-4b30-9a70-7a383ccfc45c"
      },
      "outputs": [],
      "source": [
        "# Download Web Driver Next"
      ]
    },
    {
      "cell_type": "code",
      "execution_count": null,
      "id": "0c177109-3890-4351-9318-33a33c8bfe8c",
      "metadata": {
        "id": "0c177109-3890-4351-9318-33a33c8bfe8c",
        "outputId": "586038b8-6be6-43f4-ecb7-f113257d29a9"
      },
      "outputs": [
        {
          "name": "stderr",
          "output_type": "stream",
          "text": [
            "/var/folders/49/dvwtt1bs7bx1mgdf1bw6h7j00000gn/T/ipykernel_6566/3483919288.py:6: DeprecationWarning: executable_path has been deprecated, please pass in a Service object\n",
            "  driver = webdriver.Chrome('/Users/njmedline/Downloads/chromedriver')\n"
          ]
        }
      ],
      "source": [
        "# Connect Web Driver to Notebook\n",
        "\n",
        "# Source: Set App for Locating Folder\n",
        "# Source: Stack Overflow to Troubleshoot https://stackoverflow.com/questions/60362018/macos-catalinav-10-15-3-error-chromedriver-cannot-be-opened-because-the-de\n",
        "\n",
        "driver = webdriver.Chrome('/Users/njmedline/Downloads/chromedriver')"
      ]
    },
    {
      "cell_type": "code",
      "execution_count": null,
      "id": "43152844-6faf-49c9-8070-7575c77ffea9",
      "metadata": {
        "id": "43152844-6faf-49c9-8070-7575c77ffea9"
      },
      "outputs": [],
      "source": [
        "driver.get(\"https://www.instagram.com/\")"
      ]
    },
    {
      "cell_type": "code",
      "execution_count": null,
      "id": "c580d6b9-8093-41e9-ad38-793b22bf8813",
      "metadata": {
        "id": "c580d6b9-8093-41e9-ad38-793b22bf8813"
      },
      "outputs": [],
      "source": [
        "# Web Driver is working and loads Instagram main website\n",
        "# We go to the loaded Instagram page and click inspect - can view source code"
      ]
    },
    {
      "cell_type": "code",
      "execution_count": null,
      "id": "876ee4fa-7cb2-4d3b-bd28-eed64bc18e5c",
      "metadata": {
        "id": "876ee4fa-7cb2-4d3b-bd28-eed64bc18e5c"
      },
      "outputs": [],
      "source": [
        "# Create username variable\n",
        "\n",
        "username = WebDriverWait(driver, 10).until(EC.element_to_be_clickable((By.CSS_SELECTOR, \"input[name='username']\")))\n",
        "password = WebDriverWait(driver, 10).until(EC.element_to_be_clickable((By.CSS_SELECTOR, \"input[name='password']\")))\n",
        "\n",
        "username.clear()\n",
        "password.clear()\n",
        "username.send_keys(\"cappy560\")\n",
        "password.send_keys(\"iDs5!_6_0\")"
      ]
    },
    {
      "cell_type": "code",
      "execution_count": null,
      "id": "eaa8b355-ee06-4da1-9ddb-2173043fc56d",
      "metadata": {
        "id": "eaa8b355-ee06-4da1-9ddb-2173043fc56d"
      },
      "outputs": [],
      "source": [
        "# Navigate back to webdriver and confirm that username and password correctly entered on Instagram"
      ]
    },
    {
      "cell_type": "code",
      "execution_count": null,
      "id": "64c04867-2bd9-47e5-b312-177dc9f54300",
      "metadata": {
        "id": "64c04867-2bd9-47e5-b312-177dc9f54300"
      },
      "outputs": [],
      "source": [
        "log_in = WebDriverWait(driver, 10).until(EC.element_to_be_clickable((By.CSS_SELECTOR, \"button[type='submit']\"))).click()"
      ]
    },
    {
      "cell_type": "code",
      "execution_count": null,
      "id": "d1a19b46-958e-4bea-ac7c-71539eb1848b",
      "metadata": {
        "id": "d1a19b46-958e-4bea-ac7c-71539eb1848b"
      },
      "outputs": [],
      "source": [
        "not_now = WebDriverWait(driver, 10).until(EC.element_to_be_clickable((By.XPATH, \"//button[contains(text(), 'Not Now')]\"))).click()"
      ]
    },
    {
      "cell_type": "code",
      "execution_count": null,
      "id": "f9c0e1f5-e06e-4d79-ad3e-00d4f2e6894e",
      "metadata": {
        "id": "f9c0e1f5-e06e-4d79-ad3e-00d4f2e6894e"
      },
      "outputs": [],
      "source": [
        "not_now2 = WebDriverWait(driver, 10).until(EC.element_to_be_clickable((By.XPATH, \"//button[contains(text(), 'Not Now')]\"))).click()"
      ]
    },
    {
      "cell_type": "code",
      "execution_count": null,
      "id": "c82668d2-1fe4-4645-b2fd-1593b51ce543",
      "metadata": {
        "id": "c82668d2-1fe4-4645-b2fd-1593b51ce543"
      },
      "outputs": [],
      "source": [
        "# In above two lines, we're creating variable to say \"Not Now\" to Notification Alerts"
      ]
    },
    {
      "cell_type": "code",
      "execution_count": null,
      "id": "505b219e-c788-455e-ac4f-88e0cbcc2366",
      "metadata": {
        "id": "505b219e-c788-455e-ac4f-88e0cbcc2366"
      },
      "outputs": [],
      "source": [
        "# NOTE: Instagram on the week of 10/31 moved its searchbox to a different area of the page\n",
        "# Thus, we will need to update this one part of the code\n",
        "\n",
        "searchbox = WebDriverWait(driver, 10).until(EC.element_to_be_clickable((By.XPATH, \"//input[@placeholder='Search']\")))\n",
        "searchbox.clear()\n",
        "\n",
        "# Hashtag searching process here\n",
        "\n",
        "keyword = \"#coffeeforever\"\n",
        "searchbox.send_keys(keyword)\n",
        "\n",
        "# Note: This cell might need to be run multiple times\n",
        "# One hashtag might be added on top of another\n"
      ]
    },
    {
      "cell_type": "code",
      "execution_count": null,
      "id": "763f61a1-0c03-45f5-8da1-3bd26da95b70",
      "metadata": {
        "id": "763f61a1-0c03-45f5-8da1-3bd26da95b70"
      },
      "outputs": [],
      "source": [
        "searchbox.send_keys(Keys.ENTER)\n",
        "\n",
        "# We also often need to run this cell twice \n",
        "# So hashtag can successfully be searched"
      ]
    },
    {
      "cell_type": "code",
      "execution_count": null,
      "id": "c483cf10-dfe2-4800-a824-1ebcdd9d27c0",
      "metadata": {
        "id": "c483cf10-dfe2-4800-a824-1ebcdd9d27c0"
      },
      "outputs": [],
      "source": [
        "# Clearly a new emerging issue with Instagram\n",
        "# After entering hashtag, #coffee will only be capable of displaying top 9 images instead of many more"
      ]
    },
    {
      "cell_type": "code",
      "execution_count": null,
      "id": "772e26a8-16d6-459f-8197-f6daf4bfd8d1",
      "metadata": {
        "id": "772e26a8-16d6-459f-8197-f6daf4bfd8d1",
        "outputId": "96e899ee-30e8-40ed-ad03-2ffe1ff48c2a"
      },
      "outputs": [
        {
          "data": {
            "text/plain": [
              "['https://scontent-ord5-1.cdninstagram.com/v/t51.2885-15/311590009_122900847231173_5704304430488432451_n.jpg?stp=dst-jpg_e35&_nc_ht=scontent-ord5-1.cdninstagram.com&_nc_cat=105&_nc_ohc=Q69gEycDaisAX-xHdFt&tn=ALIXa7QuLJ21hXw2&edm=AGyKU4gBAAAA&ccb=7-5&ig_cache_key=Mjk0ODk2NDQwNDU5NTQwNzYyNA%3D%3D.2-ccb7-5&oh=00_AT8kjUNZXT6dIFtNyG6ucWrXPc9Dq3EsbMfI4tKvthUELQ&oe=635362CD&_nc_sid=4cb768',\n",
              " 'https://scontent-ord5-1.cdninstagram.com/v/t51.2885-15/311590009_122900847231173_5704304430488432451_n.jpg?stp=dst-jpg_e35&_nc_ht=scontent-ord5-1.cdninstagram.com&_nc_cat=105&_nc_ohc=Q69gEycDaisAX-xHdFt&tn=ALIXa7QuLJ21hXw2&edm=AGyKU4gBAAAA&ccb=7-5&ig_cache_key=Mjk0ODk2NDQwNDU5NTQwNzYyNA%3D%3D.2-ccb7-5&oh=00_AT8kjUNZXT6dIFtNyG6ucWrXPc9Dq3EsbMfI4tKvthUELQ&oe=635362CD&_nc_sid=4cb768',\n",
              " 'https://scontent-ord5-1.cdninstagram.com/v/t51.2885-15/311748206_5850706238312728_1687307289218377491_n.jpg?stp=dst-jpg_e35&_nc_ht=scontent-ord5-1.cdninstagram.com&_nc_cat=104&_nc_ohc=epTPYpnbJjUAX8inQQI&edm=AGyKU4gBAAAA&ccb=7-5&ig_cache_key=Mjk1MDc5NDg3ODU2ODYzOTc3OA%3D%3D.2-ccb7-5&oh=00_AT9Lpj9-LzLtsNxxZvMD-xkx2TpgnxfeCov4Meey2TPttg&oe=6353D872&_nc_sid=4cb768',\n",
              " 'https://scontent-ord5-1.cdninstagram.com/v/t51.2885-15/118518294_753977142059051_6730585853726765554_n.jpg?stp=dst-jpg_e35&_nc_ht=scontent-ord5-1.cdninstagram.com&_nc_cat=111&_nc_ohc=_MgafkutySoAX_EkJig&edm=AGyKU4gBAAAA&ccb=7-5&ig_cache_key=MjM5NDQ3MjU1NzM4MDM4MzA1OA%3D%3D.2-ccb7-5&oh=00_AT-zr2O-onfoGffZDyx_KDDIO4Pb1a-eLukuiug14XDT_A&oe=6353CC30&_nc_sid=4cb768',\n",
              " 'https://scontent-ord5-1.cdninstagram.com/v/t51.2885-15/311599640_1335466680595775_8472740603874488648_n.webp?stp=dst-jpg_e35&_nc_ht=scontent-ord5-1.cdninstagram.com&_nc_cat=111&_nc_ohc=bLjIptOh4IYAX9VrVZ0&edm=AGyKU4gBAAAA&ccb=7-5&ig_cache_key=Mjk0OTY0MzgyODIwNzM1ODI2OA%3D%3D.2-ccb7-5&oh=00_AT86ZKl0ykvkc-XbnICTUWyPyn6KBpJBjBZ0BzE2NlLBlQ&oe=6354805C&_nc_sid=4cb768',\n",
              " 'https://scontent-ord5-1.cdninstagram.com/v/t51.2885-15/309499844_118234357567358_3378683063022331057_n.jpg?stp=dst-jpg_e35&_nc_ht=scontent-ord5-1.cdninstagram.com&_nc_cat=102&_nc_ohc=JV71ibjEWBcAX-mCi1t&edm=AGyKU4gBAAAA&ccb=7-5&ig_cache_key=Mjk1MTAzODE1NDY2OTk4MDAyMg%3D%3D.2-ccb7-5&oh=00_AT_Lgw-VVrHamUgHGxr8vEzfz1plO7v-b2dsfuseLiIExw&oe=63539A36&_nc_sid=4cb768',\n",
              " 'https://scontent-ord5-1.cdninstagram.com/v/t51.2885-15/306100752_206025698515351_8617330188874286062_n.jpg?stp=dst-jpg_e35&_nc_ht=scontent-ord5-1.cdninstagram.com&_nc_cat=107&_nc_ohc=7DfBVnyBLTUAX-zM3yv&edm=AGyKU4gBAAAA&ccb=7-5&ig_cache_key=MjkyNTUxMzc1NzQ5ODA4ODY1NA%3D%3D.2-ccb7-5&oh=00_AT_oPTTnNLKU5Ww8Dgms0UkR-0_9QdVYmkQ55wD_Dbt7lw&oe=63532A83&_nc_sid=4cb768',\n",
              " 'https://scontent-ord5-1.cdninstagram.com/v/t51.2885-15/305076905_5833421896669111_2923597082092462896_n.webp?stp=dst-jpg_e35&_nc_ht=scontent-ord5-1.cdninstagram.com&_nc_cat=107&_nc_ohc=LYCpU3upOlkAX8g27YD&tn=ALIXa7QuLJ21hXw2&edm=AGyKU4gBAAAA&ccb=7-5&ig_cache_key=MjkyMDc1MTk3NzAzNDQ3MTA4MQ%3D%3D.2-ccb7-5&oh=00_AT8nD9_vOVduM2cTxM5RoCz5o4qAW3afvlXQ99BNuqTUhQ&oe=6354B2E9&_nc_sid=4cb768',\n",
              " 'https://scontent-ord5-1.cdninstagram.com/v/t51.2885-15/239322799_213078110786076_5576300407611611292_n.jpg?stp=dst-jpg_e35&_nc_ht=scontent-ord5-1.cdninstagram.com&_nc_cat=100&_nc_ohc=CtGx1J4rO3QAX9wqGfC&edm=AGyKU4gBAAAA&ccb=7-5&ig_cache_key=MjY0NDI1Mzg4NDk3MTc2MDY3Nw%3D%3D.2-ccb7-5&oh=00_AT-aMiBfSWZk-ib6xXh3_pSBZg1258X7N7XIfbRfb0k_LA&oe=6354244E&_nc_sid=4cb768',\n",
              " 'https://scontent-ord5-1.cdninstagram.com/v/t51.2885-15/191870223_1221098478310917_4851644713157641228_n.jpg?stp=dst-jpg_e35&_nc_ht=scontent-ord5-1.cdninstagram.com&_nc_cat=109&_nc_ohc=S35j1MIRN34AX-YXZGg&edm=AGyKU4gBAAAA&ccb=7-5&ig_cache_key=MjU4Mjg5NDc5NDY5NTMyMjkyMA%3D%3D.2-ccb7-5&oh=00_AT9m0nVEkZKmFmNN0sohT9N2e8AMqVvNIaNNi5CVgIkolg&oe=635396A8&_nc_sid=4cb768',\n",
              " 'https://scontent-bos5-1.cdninstagram.com/v/t51.2885-19/44884218_345707102882519_2446069589734326272_n.jpg?_nc_ht=scontent-bos5-1.cdninstagram.com&_nc_cat=1&_nc_ohc=gsvQ8GMiFaYAX-dINcS&edm=AB11_MABAAAA&ccb=7-5&ig_cache_key=YW5vbnltb3VzX3Byb2ZpbGVfcGlj.2-ccb7-5&oh=00_AT8YPBxWxmIChz1Tn3mhCeo8-A80eLGdTg0xnLonbZb9MA&oe=6353520F&_nc_sid=ccd4cc']"
            ]
          },
          "execution_count": 141,
          "metadata": {},
          "output_type": "execute_result"
        }
      ],
      "source": [
        "driver.execute_script(\"window.scrollTo(0,4000);\")\n",
        "\n",
        "# Scroll function less effective with \"top posts\" displayed \n",
        "# Source - Read the Docs Selenium to better locate elements\n",
        "\n",
        "images = driver.find_elements(By.TAG_NAME, 'img')\n",
        "images = [image.get_attribute('src') for image in images]\n",
        "\n",
        "images"
      ]
    },
    {
      "cell_type": "code",
      "execution_count": null,
      "id": "82f10bb8-93ec-4293-b556-b75422004192",
      "metadata": {
        "id": "82f10bb8-93ec-4293-b556-b75422004192"
      },
      "outputs": [],
      "source": [
        "# Save images to computer\n",
        "\n",
        "path = os.getcwd()"
      ]
    },
    {
      "cell_type": "code",
      "execution_count": null,
      "id": "354b7700-6496-4bca-80d7-32cd4fe6b731",
      "metadata": {
        "id": "354b7700-6496-4bca-80d7-32cd4fe6b731",
        "outputId": "dd489089-1dad-4f47-fbd3-8e3edbe69da2"
      },
      "outputs": [
        {
          "data": {
            "text/plain": [
              "'/Users/njmedline/coffeeforevers'"
            ]
          },
          "execution_count": 143,
          "metadata": {},
          "output_type": "execute_result"
        }
      ],
      "source": [
        "path = os.path.join(path, keyword[1:] + \"s\")\n",
        "\n",
        "os.mkdir(path)\n",
        "path\n",
        "\n",
        "# Can someone improve this path?\n",
        "# So it's not creating gobs of different folders!"
      ]
    },
    {
      "cell_type": "code",
      "execution_count": null,
      "id": "6c1b4828-6d6b-4451-9d33-35fcd07bf966",
      "metadata": {
        "id": "6c1b4828-6d6b-4451-9d33-35fcd07bf966"
      },
      "outputs": [],
      "source": [
        "counter = 0\n",
        "for image in images: \n",
        "    save_as = os.path.join(path, keyword[1:] + str(counter) + '.jpg')\n",
        "    wget.download(image, save_as)\n",
        "    counter += 1"
      ]
    },
    {
      "cell_type": "code",
      "source": [
        "# Additional metadata process\n",
        "\n",
        "descriptions = driver.find_elements(By.TAG_NAME, 'img') \n",
        "descriptions = [image.get_attribute('alt') for image in descriptions]"
      ],
      "metadata": {
        "id": "gUvd2QMZvpq0"
      },
      "id": "gUvd2QMZvpq0",
      "execution_count": null,
      "outputs": []
    },
    {
      "cell_type": "code",
      "source": [
        "descriptions"
      ],
      "metadata": {
        "id": "qBMbU-sBvu5N"
      },
      "id": "qBMbU-sBvu5N",
      "execution_count": null,
      "outputs": []
    }
  ],
  "metadata": {
    "kernelspec": {
      "display_name": "Python 3 (ipykernel)",
      "language": "python",
      "name": "python3"
    },
    "language_info": {
      "codemirror_mode": {
        "name": "ipython",
        "version": 3
      },
      "file_extension": ".py",
      "mimetype": "text/x-python",
      "name": "python",
      "nbconvert_exporter": "python",
      "pygments_lexer": "ipython3",
      "version": "3.9.12"
    },
    "colab": {
      "provenance": []
    }
  },
  "nbformat": 4,
  "nbformat_minor": 5
}